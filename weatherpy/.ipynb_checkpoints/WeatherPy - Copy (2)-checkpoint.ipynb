{
 "cells": [
  {
   "cell_type": "markdown",
   "metadata": {},
   "source": [
    "# WeatherPy\n",
    "----\n",
    "\n",
    "#### Note\n",
    "* Instructions have been included for each segment. You do not have to follow them exactly, but they are included to help you think through the steps."
   ]
  },
  {
   "cell_type": "code",
   "execution_count": 1,
   "metadata": {
    "scrolled": true
   },
   "outputs": [
    {
     "ename": "ModuleNotFoundError",
     "evalue": "No module named 'api_keys'",
     "output_type": "error",
     "traceback": [
      "\u001b[1;31m---------------------------------------------------------------------------\u001b[0m",
      "\u001b[1;31mModuleNotFoundError\u001b[0m                       Traceback (most recent call last)",
      "\u001b[1;32m<ipython-input-1-ab774e752adb>\u001b[0m in \u001b[0;36m<module>\u001b[1;34m\u001b[0m\n\u001b[0;32m     12\u001b[0m \u001b[1;33m\u001b[0m\u001b[0m\n\u001b[0;32m     13\u001b[0m \u001b[1;31m# Import API key\u001b[0m\u001b[1;33m\u001b[0m\u001b[1;33m\u001b[0m\u001b[1;33m\u001b[0m\u001b[0m\n\u001b[1;32m---> 14\u001b[1;33m \u001b[1;32mfrom\u001b[0m \u001b[0mapi_keys\u001b[0m \u001b[1;32mimport\u001b[0m \u001b[0mweather_api_key\u001b[0m\u001b[1;33m\u001b[0m\u001b[1;33m\u001b[0m\u001b[0m\n\u001b[0m\u001b[0;32m     15\u001b[0m \u001b[1;33m\u001b[0m\u001b[0m\n\u001b[0;32m     16\u001b[0m \u001b[1;31m# Incorporated citipy to determine city based on latitude and longitude\u001b[0m\u001b[1;33m\u001b[0m\u001b[1;33m\u001b[0m\u001b[1;33m\u001b[0m\u001b[0m\n",
      "\u001b[1;31mModuleNotFoundError\u001b[0m: No module named 'api_keys'"
     ]
    }
   ],
   "source": [
    "# Dependencies and Setup\n",
    "import matplotlib.pyplot as plt\n",
    "import pandas as pd\n",
    "import numpy as np\n",
    "import requests\n",
    "import time\n",
    "from scipy.stats import linregress\n",
    "from ratelimiter import RateLimiter\n",
    "from datetime import datetime\n",
    "import json\n",
    "from sklearn import datasets\n",
    "\n",
    "# Import API key\n",
    "from api_keys import weather_api_key\n",
    "\n",
    "# Incorporated citipy to determine city based on latitude and longitude\n",
    "from citipy import citipy\n",
    "\n",
    "# Output File (CSV)\n",
    "output_data_file = \"output_data/cities.csv\"\n",
    "\n",
    "# Range of latitudes and longitudes\n",
    "lat_range = (-90, 90)\n",
    "lng_range = (-180, 180)"
   ]
  },
  {
   "cell_type": "markdown",
   "metadata": {},
   "source": [
    "## Generate Cities List"
   ]
  },
  {
   "cell_type": "code",
   "execution_count": 2,
   "metadata": {},
   "outputs": [
    {
     "data": {
      "text/plain": [
       "594"
      ]
     },
     "execution_count": 2,
     "metadata": {},
     "output_type": "execute_result"
    }
   ],
   "source": [
    "# List for holding lat_lngs and cities\n",
    "lat_lngs = []\n",
    "cities = []\n",
    "\n",
    "# Create a set of random lat and lng combinations\n",
    "lats = np.random.uniform(low=-90.000, high=90.000, size=1500)\n",
    "lngs = np.random.uniform(low=-180.000, high=180.000, size=1500)\n",
    "lat_lngs = zip(lats, lngs)\n",
    "\n",
    "# Identify nearest city for each lat, lng combination\n",
    "for lat_lng in lat_lngs:\n",
    "    city = citipy.nearest_city(lat_lng[0], lat_lng[1]).city_name\n",
    "    \n",
    "    # If the city is unique, then add it to a our cities list\n",
    "    if city not in cities:\n",
    "        cities.append(city)\n",
    "\n",
    "# Print the city count to confirm sufficient count\n",
    "len(cities)"
   ]
  },
  {
   "cell_type": "markdown",
   "metadata": {},
   "source": [
    "### Perform API Calls\n",
    "* Perform a weather check on each city using a series of successive API calls.\n",
    "* Include a print log of each city as it'sbeing processed (with the city number and city name).\n"
   ]
  },
  {
   "cell_type": "code",
   "execution_count": 7,
   "metadata": {},
   "outputs": [],
   "source": [
    "new_cities = []\n",
    "cloudiness = []\n",
    "country = []\n",
    "date = []\n",
    "humidity = []\n",
    "temp = []\n",
    "lat = []\n",
    "lng = []\n",
    "wind = []"
   ]
  },
  {
   "cell_type": "code",
   "execution_count": 8,
   "metadata": {},
   "outputs": [
    {
     "name": "stdout",
     "output_type": "stream",
     "text": [
      "Beginning Data Retrieval\n",
      "------------------------\n",
      "Processing record 1 of set 0 | santa rosa\n",
      "Processing record 2 of set 0 | faanui\n",
      "Processing record 3 of set 0 | northam\n",
      "Processing record 4 of set 0 | kapaa\n",
      "Processing record 5 of set 0 | ponta do sol\n",
      "Processing record 6 of set 0 | bambous virieux\n",
      "Processing record 7 of set 0 | ushuaia\n",
      "Processing record 8 of set 0 | hobart\n",
      "Processing record 9 of set 0 | kuala krai\n",
      "City not found. Skipping...\n",
      "Processing record 10 of set 0 | banyo\n",
      "Processing record 11 of set 0 | kloulklubed\n",
      "Processing record 12 of set 0 | tasiilaq\n",
      "Processing record 13 of set 0 | pingliang\n",
      "Processing record 14 of set 0 | vaini\n",
      "Processing record 15 of set 0 | east london\n",
      "Processing record 16 of set 0 | the valley\n",
      "Processing record 17 of set 0 | hermanus\n",
      "Processing record 18 of set 0 | toropets\n",
      "Processing record 19 of set 0 | kongsberg\n",
      "Processing record 20 of set 0 | kudahuvadhoo\n",
      "Processing record 21 of set 0 | dikson\n",
      "Processing record 22 of set 0 | olafsvik\n",
      "City not found. Skipping...\n",
      "Processing record 23 of set 0 | bambari\n",
      "Processing record 24 of set 0 | te anau\n",
      "Processing record 25 of set 0 | belushya guba\n",
      "City not found. Skipping...\n",
      "Processing record 26 of set 0 | yayva\n",
      "Processing record 27 of set 0 | husavik\n",
      "Processing record 28 of set 0 | mount gambier\n",
      "Processing record 29 of set 0 | dingle\n",
      "Processing record 30 of set 0 | hilo\n",
      "Processing record 31 of set 0 | hualmay\n",
      "Processing record 32 of set 0 | cabo san lucas\n",
      "Processing record 33 of set 0 | mataura\n",
      "Processing record 34 of set 0 | gola bazar\n",
      "Processing record 35 of set 0 | georgetown\n",
      "Processing record 36 of set 0 | florence\n",
      "Processing record 37 of set 0 | nchelenge\n",
      "Processing record 38 of set 0 | makakilo city\n",
      "Processing record 39 of set 0 | rikitea\n",
      "Processing record 40 of set 0 | arraial do cabo\n",
      "Processing record 41 of set 0 | baruun-urt\n",
      "Processing record 42 of set 0 | katobu\n",
      "Processing record 43 of set 0 | albany\n",
      "Processing record 44 of set 0 | breznita-motru\n",
      "Processing record 45 of set 0 | punta arenas\n",
      "Processing record 46 of set 0 | brae\n",
      "Processing record 47 of set 0 | cape town\n",
      "Processing record 48 of set 0 | qaanaaq\n",
      "Processing record 49 of set 0 | mar del plata\n",
      "Processing record 50 of set 0 | busselton\n",
      "Processing record 1 of set 1 | minab\n",
      "Processing record 2 of set 1 | chifeng\n",
      "Processing record 3 of set 1 | mayumba\n",
      "Processing record 4 of set 1 | tecoanapa\n",
      "Processing record 5 of set 1 | castro\n",
      "Processing record 6 of set 1 | bulgan\n",
      "Processing record 7 of set 1 | tygda\n",
      "Processing record 8 of set 1 | butembo\n",
      "Processing record 9 of set 1 | nome\n",
      "Processing record 10 of set 1 | upernavik\n",
      "Processing record 11 of set 1 | katsuura\n",
      "Processing record 12 of set 1 | padang\n",
      "Processing record 13 of set 1 | bathsheba\n",
      "Processing record 14 of set 1 | tuatapere\n",
      "Processing record 15 of set 1 | sao miguel do araguaia\n",
      "Processing record 16 of set 1 | kombissiri\n",
      "Processing record 17 of set 1 | solsvik\n",
      "City not found. Skipping...\n",
      "Processing record 18 of set 1 | sovetskiy\n",
      "Processing record 19 of set 1 | isangel\n",
      "Processing record 20 of set 1 | marawi\n",
      "Processing record 21 of set 1 | illoqqortoormiut\n",
      "City not found. Skipping...\n",
      "Processing record 22 of set 1 | richards bay\n",
      "Processing record 23 of set 1 | banda aceh\n",
      "Processing record 24 of set 1 | coffs harbour\n",
      "Processing record 25 of set 1 | mrirt\n",
      "City not found. Skipping...\n",
      "Processing record 26 of set 1 | klaksvik\n",
      "Processing record 27 of set 1 | saskylakh\n",
      "Processing record 28 of set 1 | constitucion\n",
      "Processing record 29 of set 1 | mahebourg\n",
      "Processing record 30 of set 1 | pouebo\n",
      "Processing record 31 of set 1 | cherskiy\n",
      "Processing record 32 of set 1 | trenggalek\n",
      "Processing record 33 of set 1 | barentsburg\n",
      "City not found. Skipping...\n",
      "Processing record 34 of set 1 | port macquarie\n",
      "Processing record 35 of set 1 | chokurdakh\n",
      "Processing record 36 of set 1 | provideniya\n",
      "Processing record 37 of set 1 | palabuhanratu\n",
      "City not found. Skipping...\n",
      "Processing record 38 of set 1 | lexington\n",
      "Processing record 39 of set 1 | margate\n",
      "Processing record 40 of set 1 | payerne\n",
      "Processing record 41 of set 1 | taolanaro\n",
      "City not found. Skipping...\n",
      "Processing record 42 of set 1 | jamestown\n",
      "Processing record 43 of set 1 | sorvag\n",
      "City not found. Skipping...\n",
      "Processing record 44 of set 1 | leningradskiy\n",
      "Processing record 45 of set 1 | los llanos de aridane\n",
      "Processing record 46 of set 1 | nizhniy tsasuchey\n",
      "Processing record 47 of set 1 | meadow lake\n",
      "Processing record 48 of set 1 | popondetta\n",
      "Processing record 49 of set 1 | vestmannaeyjar\n",
      "Processing record 50 of set 1 | new norfolk\n",
      "Processing record 1 of set 2 | tuktoyaktuk\n",
      "Processing record 2 of set 2 | tumannyy\n",
      "City not found. Skipping...\n",
      "Processing record 3 of set 2 | scituate\n",
      "Processing record 4 of set 2 | sao filipe\n",
      "Processing record 5 of set 2 | puerto ayora\n",
      "Processing record 6 of set 2 | yellowknife\n",
      "Processing record 7 of set 2 | saint-augustin\n",
      "Processing record 8 of set 2 | bengkulu\n",
      "City not found. Skipping...\n",
      "Processing record 9 of set 2 | butaritari\n",
      "Processing record 10 of set 2 | egvekinot\n",
      "Processing record 11 of set 2 | cidreira\n",
      "Processing record 12 of set 2 | yerbogachen\n",
      "Processing record 13 of set 2 | rovinj\n",
      "Processing record 14 of set 2 | san cristobal\n",
      "Processing record 15 of set 2 | pisco\n",
      "Processing record 16 of set 2 | barrow\n",
      "Processing record 17 of set 2 | ambilobe\n",
      "Processing record 18 of set 2 | alotau\n",
      "City not found. Skipping...\n",
      "Processing record 19 of set 2 | carnarvon\n",
      "Processing record 20 of set 2 | mandera\n",
      "Processing record 21 of set 2 | pacific grove\n",
      "Processing record 22 of set 2 | esperance\n",
      "Processing record 23 of set 2 | ulladulla\n",
      "Processing record 24 of set 2 | port alfred\n",
      "Processing record 25 of set 2 | gainesville\n",
      "Processing record 26 of set 2 | mehamn\n",
      "Processing record 27 of set 2 | ribeira grande\n",
      "Processing record 28 of set 2 | borama\n",
      "City not found. Skipping...\n",
      "Processing record 29 of set 2 | gari\n",
      "Processing record 30 of set 2 | sabang\n",
      "Processing record 31 of set 2 | paamiut\n",
      "Processing record 32 of set 2 | nikolskoye\n",
      "Processing record 33 of set 2 | severo-kurilsk\n",
      "Processing record 34 of set 2 | north battleford\n",
      "Processing record 35 of set 2 | saint-joseph\n",
      "Processing record 36 of set 2 | ilulissat\n",
      "Processing record 37 of set 2 | haines junction\n",
      "Processing record 38 of set 2 | nanortalik\n",
      "Processing record 39 of set 2 | acapulco\n",
      "Processing record 40 of set 2 | qaqortoq\n",
      "Processing record 41 of set 2 | kodiak\n",
      "Processing record 42 of set 2 | caravelas\n",
      "Processing record 43 of set 2 | lagoa\n",
      "Processing record 44 of set 2 | saint-pierre\n",
      "Processing record 45 of set 2 | kachiry\n",
      "Processing record 46 of set 2 | port blair\n",
      "Processing record 47 of set 2 | lorengau\n",
      "Processing record 48 of set 2 | longyearbyen\n",
      "Processing record 49 of set 2 | khatanga\n",
      "Processing record 50 of set 2 | mount isa\n",
      "Processing record 1 of set 3 | hovd\n",
      "Processing record 2 of set 3 | geraldton\n",
      "Processing record 3 of set 3 | eureka\n",
      "Processing record 4 of set 3 | vao\n",
      "Processing record 5 of set 3 | sharjah\n",
      "Processing record 6 of set 3 | alofi\n",
      "Processing record 7 of set 3 | tonantins\n",
      "Processing record 8 of set 3 | chuy\n",
      "Processing record 9 of set 3 | pedernales\n",
      "Processing record 10 of set 3 | amderma\n",
      "City not found. Skipping...\n",
      "Processing record 11 of set 3 | kahului\n",
      "Processing record 12 of set 3 | beringovskiy\n",
      "Processing record 13 of set 3 | kruisfontein\n",
      "Processing record 14 of set 3 | forbes\n",
      "Processing record 15 of set 3 | bilibino\n",
      "Processing record 16 of set 3 | vila velha\n",
      "Processing record 17 of set 3 | coos bay\n",
      "Processing record 18 of set 3 | iqaluit\n",
      "Processing record 19 of set 3 | yar-sale\n",
      "Processing record 20 of set 3 | jaisalmer\n",
      "Processing record 21 of set 3 | lebu\n",
      "Processing record 22 of set 3 | lompoc\n",
      "Processing record 23 of set 3 | lavrentiya\n",
      "Processing record 24 of set 3 | viransehir\n",
      "Processing record 25 of set 3 | darnah\n",
      "Processing record 26 of set 3 | belmonte\n",
      "Processing record 27 of set 3 | bluff\n",
      "Processing record 28 of set 3 | prince albert\n",
      "Processing record 29 of set 3 | grand river south east\n",
      "City not found. Skipping...\n",
      "Processing record 30 of set 3 | huilong\n",
      "Processing record 31 of set 3 | bethel\n",
      "Processing record 32 of set 3 | ploemeur\n",
      "Processing record 33 of set 3 | tamale\n",
      "Processing record 34 of set 3 | malwan\n",
      "City not found. Skipping...\n"
     ]
    },
    {
     "name": "stdout",
     "output_type": "stream",
     "text": [
      "Processing record 35 of set 3 | kavaratti\n",
      "Processing record 36 of set 3 | nantucket\n",
      "Processing record 37 of set 3 | gusev\n",
      "Processing record 38 of set 3 | koumac\n",
      "Processing record 39 of set 3 | santa maria da vitoria\n",
      "Processing record 40 of set 3 | talakan\n",
      "Processing record 41 of set 3 | virginia beach\n",
      "Processing record 42 of set 3 | turukhansk\n",
      "Processing record 43 of set 3 | gamba\n",
      "Processing record 44 of set 3 | codrington\n",
      "Processing record 45 of set 3 | bandarbeyla\n",
      "Processing record 46 of set 3 | komsomolskiy\n",
      "Processing record 47 of set 3 | tlalpujahua\n",
      "City not found. Skipping...\n",
      "Processing record 48 of set 3 | gedo\n",
      "Processing record 49 of set 3 | sao felix do xingu\n",
      "Processing record 50 of set 3 | korla\n",
      "City not found. Skipping...\n",
      "Processing record 1 of set 4 | partyzany\n",
      "Processing record 2 of set 4 | sao joao da barra\n",
      "Processing record 3 of set 4 | akyab\n",
      "City not found. Skipping...\n",
      "Processing record 4 of set 4 | den helder\n",
      "Processing record 5 of set 4 | milton keynes\n",
      "Processing record 6 of set 4 | lata\n",
      "Processing record 7 of set 4 | yakeshi\n",
      "Processing record 8 of set 4 | souillac\n",
      "Processing record 9 of set 4 | beisfjord\n",
      "Processing record 10 of set 4 | christchurch\n",
      "Processing record 11 of set 4 | ancud\n",
      "Processing record 12 of set 4 | tunggol\n",
      "Processing record 13 of set 4 | nizhneyansk\n",
      "City not found. Skipping...\n",
      "Processing record 14 of set 4 | vila franca do campo\n",
      "Processing record 15 of set 4 | portland\n",
      "Processing record 16 of set 4 | bom jesus\n",
      "Processing record 17 of set 4 | houma\n",
      "Processing record 18 of set 4 | hasaki\n",
      "Processing record 19 of set 4 | norman wells\n",
      "Processing record 20 of set 4 | cap malheureux\n",
      "Processing record 21 of set 4 | alta floresta\n",
      "Processing record 22 of set 4 | bilma\n",
      "Processing record 23 of set 4 | saint george\n",
      "Processing record 24 of set 4 | aklavik\n",
      "Processing record 25 of set 4 | cairns\n",
      "Processing record 26 of set 4 | chumikan\n",
      "Processing record 27 of set 4 | meulaboh\n",
      "Processing record 28 of set 4 | guaraniacu\n",
      "Processing record 29 of set 4 | mys shmidta\n",
      "City not found. Skipping...\n",
      "Processing record 30 of set 4 | shalya\n",
      "Processing record 31 of set 4 | kendal\n",
      "Processing record 32 of set 4 | kungsbacka\n",
      "Processing record 33 of set 4 | tura\n",
      "Processing record 34 of set 4 | mirabad\n",
      "Processing record 35 of set 4 | rawson\n",
      "Processing record 36 of set 4 | fallon\n",
      "Processing record 37 of set 4 | atuona\n",
      "Processing record 38 of set 4 | atikokan\n",
      "Processing record 39 of set 4 | mekhe\n",
      "Processing record 40 of set 4 | kidal\n",
      "Processing record 41 of set 4 | andros town\n",
      "Processing record 42 of set 4 | batagay-alyta\n",
      "Processing record 43 of set 4 | pochutla\n",
      "Processing record 44 of set 4 | warqla\n",
      "City not found. Skipping...\n",
      "Processing record 45 of set 4 | mackay\n",
      "Processing record 46 of set 4 | attawapiskat\n",
      "City not found. Skipping...\n",
      "Processing record 47 of set 4 | tiksi\n",
      "Processing record 48 of set 4 | griffith\n",
      "Processing record 49 of set 4 | avarua\n",
      "Processing record 50 of set 4 | hunchun\n",
      "Processing record 1 of set 5 | general roca\n",
      "Processing record 2 of set 5 | pervomayskoye\n",
      "Processing record 3 of set 5 | saldanha\n",
      "Processing record 4 of set 5 | fortuna\n",
      "Processing record 5 of set 5 | laguna\n",
      "Processing record 6 of set 5 | hithadhoo\n",
      "Processing record 7 of set 5 | kinablangan\n",
      "Processing record 8 of set 5 | leticia\n",
      "Processing record 9 of set 5 | torbay\n",
      "Processing record 10 of set 5 | udachnyy\n",
      "Processing record 11 of set 5 | bredasdorp\n",
      "Processing record 12 of set 5 | paracuru\n",
      "Processing record 13 of set 5 | evensk\n",
      "Processing record 14 of set 5 | ipixuna\n",
      "Processing record 15 of set 5 | roald\n",
      "Processing record 16 of set 5 | nuuk\n",
      "Processing record 17 of set 5 | homer\n",
      "Processing record 18 of set 5 | bubaque\n",
      "Processing record 19 of set 5 | antofagasta\n",
      "Processing record 20 of set 5 | abu dhabi\n",
      "Processing record 21 of set 5 | shimoda\n",
      "Processing record 22 of set 5 | ous\n",
      "Processing record 23 of set 5 | benghazi\n",
      "Processing record 24 of set 5 | lerwick\n",
      "Processing record 25 of set 5 | namatanai\n",
      "Processing record 26 of set 5 | kiama\n",
      "Processing record 27 of set 5 | misratah\n",
      "Processing record 28 of set 5 | kyaukse\n",
      "Processing record 29 of set 5 | dagana\n",
      "Processing record 30 of set 5 | poum\n",
      "Processing record 31 of set 5 | gat\n",
      "Processing record 32 of set 5 | ponta delgada\n",
      "Processing record 33 of set 5 | sentyabrskiy\n",
      "City not found. Skipping...\n",
      "Processing record 34 of set 5 | bellary\n",
      "Processing record 35 of set 5 | marzuq\n",
      "Processing record 36 of set 5 | petrivka\n",
      "Processing record 37 of set 5 | shingu\n",
      "Processing record 38 of set 5 | ayan\n",
      "Processing record 39 of set 5 | camacha\n",
      "Processing record 40 of set 5 | victoria\n",
      "Processing record 41 of set 5 | mogadishu\n",
      "Processing record 42 of set 5 | ostrovskoye\n",
      "Processing record 43 of set 5 | fort nelson\n",
      "Processing record 44 of set 5 | acarau\n",
      "City not found. Skipping...\n",
      "Processing record 45 of set 5 | cajabamba\n",
      "Processing record 46 of set 5 | broome\n",
      "Processing record 47 of set 5 | lixourion\n",
      "Processing record 48 of set 5 | batemans bay\n",
      "Processing record 49 of set 5 | pimenta bueno\n",
      "Processing record 50 of set 5 | ahumada\n",
      "City not found. Skipping...\n",
      "Processing record 1 of set 6 | luderitz\n",
      "Processing record 2 of set 6 | ikungi\n",
      "Processing record 3 of set 6 | soe\n",
      "Processing record 4 of set 6 | frolovo\n",
      "Processing record 5 of set 6 | kaitangata\n",
      "Processing record 6 of set 6 | nouadhibou\n",
      "Processing record 7 of set 6 | igarka\n",
      "Processing record 8 of set 6 | half moon bay\n",
      "Processing record 9 of set 6 | eyl\n",
      "Processing record 10 of set 6 | healdsburg\n",
      "Processing record 11 of set 6 | prainha\n",
      "Processing record 12 of set 6 | iskateley\n",
      "Processing record 13 of set 6 | gigmoto\n",
      "Processing record 14 of set 6 | port elizabeth\n",
      "Processing record 15 of set 6 | tsihombe\n",
      "City not found. Skipping...\n",
      "Processing record 16 of set 6 | naze\n",
      "Processing record 17 of set 6 | boquira\n",
      "Processing record 18 of set 6 | buedu\n",
      "Processing record 19 of set 6 | sitka\n",
      "Processing record 20 of set 6 | plouzane\n",
      "Processing record 21 of set 6 | pevek\n",
      "Processing record 22 of set 6 | swellendam\n",
      "Processing record 23 of set 6 | airai\n",
      "Processing record 24 of set 6 | raga\n",
      "City not found. Skipping...\n",
      "Processing record 25 of set 6 | port hardy\n",
      "Processing record 26 of set 6 | marcona\n",
      "City not found. Skipping...\n",
      "Processing record 27 of set 6 | toliary\n",
      "City not found. Skipping...\n",
      "Processing record 28 of set 6 | westport\n",
      "Processing record 29 of set 6 | ust-nera\n",
      "Processing record 30 of set 6 | leh\n",
      "Processing record 31 of set 6 | vardo\n",
      "Processing record 32 of set 6 | roebourne\n",
      "Processing record 33 of set 6 | port lincoln\n",
      "Processing record 34 of set 6 | hearst\n",
      "Processing record 35 of set 6 | yarada\n",
      "Processing record 36 of set 6 | vostok\n",
      "Processing record 37 of set 6 | kanlagay\n",
      "Processing record 38 of set 6 | buraydah\n",
      "Processing record 39 of set 6 | saint-louis\n",
      "Processing record 40 of set 6 | zhezkazgan\n",
      "Processing record 41 of set 6 | manyana\n",
      "Processing record 42 of set 6 | crab hill\n",
      "City not found. Skipping...\n",
      "Processing record 43 of set 6 | santa cruz\n",
      "Processing record 44 of set 6 | north bend\n",
      "Processing record 45 of set 6 | guerrero negro\n",
      "Processing record 46 of set 6 | hvolsvollur\n",
      "City not found. Skipping...\n",
      "Processing record 47 of set 6 | thompson\n",
      "Processing record 48 of set 6 | tawnat\n",
      "City not found. Skipping...\n",
      "Processing record 49 of set 6 | pundaguitan\n",
      "Processing record 50 of set 6 | haibowan\n",
      "City not found. Skipping...\n",
      "Processing record 1 of set 7 | ust-maya\n",
      "Processing record 2 of set 7 | inirida\n",
      "Processing record 3 of set 7 | amparai\n",
      "City not found. Skipping...\n",
      "Processing record 4 of set 7 | samsun\n",
      "Processing record 5 of set 7 | kumeny\n",
      "Processing record 6 of set 7 | san vicente\n",
      "Processing record 7 of set 7 | skibbereen\n",
      "Processing record 8 of set 7 | kushnarenkovo\n",
      "Processing record 9 of set 7 | mocambique\n",
      "City not found. Skipping...\n",
      "Processing record 10 of set 7 | muros\n",
      "Processing record 11 of set 7 | gushikawa\n",
      "Processing record 12 of set 7 | glendive\n",
      "Processing record 13 of set 7 | tungor\n",
      "Processing record 14 of set 7 | flinders\n",
      "Processing record 15 of set 7 | tokamachi\n",
      "Processing record 16 of set 7 | lolua\n",
      "City not found. Skipping...\n",
      "Processing record 17 of set 7 | mayo\n",
      "Processing record 18 of set 7 | santander\n",
      "Processing record 19 of set 7 | presidencia roque saenz pena\n",
      "Processing record 20 of set 7 | saint-philippe\n"
     ]
    },
    {
     "name": "stdout",
     "output_type": "stream",
     "text": [
      "Processing record 21 of set 7 | banjar\n",
      "Processing record 22 of set 7 | novyy urgal\n",
      "Processing record 23 of set 7 | mega\n",
      "Processing record 24 of set 7 | walvis bay\n",
      "Processing record 25 of set 7 | mandalgovi\n",
      "Processing record 26 of set 7 | alice springs\n",
      "Processing record 27 of set 7 | coquimbo\n",
      "Processing record 28 of set 7 | utiroa\n",
      "City not found. Skipping...\n",
      "Processing record 29 of set 7 | ballina\n",
      "Processing record 30 of set 7 | kamenskoye\n",
      "City not found. Skipping...\n",
      "Processing record 31 of set 7 | zarubino\n",
      "Processing record 32 of set 7 | leua\n",
      "Processing record 33 of set 7 | kavieng\n",
      "Processing record 34 of set 7 | angoche\n",
      "Processing record 35 of set 7 | ahipara\n",
      "Processing record 36 of set 7 | la asuncion\n",
      "Processing record 37 of set 7 | yellandu\n",
      "Processing record 38 of set 7 | nishihara\n",
      "Processing record 39 of set 7 | mongoumba\n",
      "Processing record 40 of set 7 | revelstoke\n",
      "Processing record 41 of set 7 | jibuti\n",
      "City not found. Skipping...\n",
      "Processing record 42 of set 7 | yarega\n",
      "Processing record 43 of set 7 | gravelbourg\n",
      "Processing record 44 of set 7 | yumen\n",
      "Processing record 45 of set 7 | russellville\n",
      "Processing record 46 of set 7 | sorong\n",
      "Processing record 47 of set 7 | mindelo\n",
      "Processing record 48 of set 7 | port-gentil\n",
      "Processing record 49 of set 7 | nikko\n",
      "Processing record 50 of set 7 | ust-kamchatsk\n",
      "City not found. Skipping...\n",
      "Processing record 1 of set 8 | izumo\n",
      "Processing record 2 of set 8 | harper\n",
      "Processing record 3 of set 8 | taoudenni\n",
      "Processing record 4 of set 8 | corner brook\n",
      "Processing record 5 of set 8 | dinsor\n",
      "City not found. Skipping...\n",
      "Processing record 6 of set 8 | sambava\n",
      "Processing record 7 of set 8 | baykit\n",
      "Processing record 8 of set 8 | buy\n",
      "Processing record 9 of set 8 | sulangan\n",
      "Processing record 10 of set 8 | clyde river\n",
      "Processing record 11 of set 8 | celestun\n",
      "Processing record 12 of set 8 | male\n",
      "Processing record 13 of set 8 | havelock\n",
      "Processing record 14 of set 8 | harnosand\n",
      "Processing record 15 of set 8 | irbeyskoye\n",
      "Processing record 16 of set 8 | las lomas\n",
      "Processing record 17 of set 8 | kashi\n",
      "City not found. Skipping...\n",
      "Processing record 18 of set 8 | collierville\n",
      "Processing record 19 of set 8 | changde\n",
      "Processing record 20 of set 8 | bridgewater\n",
      "Processing record 21 of set 8 | alagoa grande\n",
      "Processing record 22 of set 8 | prince rupert\n",
      "Processing record 23 of set 8 | takoradi\n",
      "Processing record 24 of set 8 | avera\n",
      "Processing record 25 of set 8 | kutum\n",
      "Processing record 26 of set 8 | arkadelphia\n",
      "Processing record 27 of set 8 | ciudad bolivar\n",
      "Processing record 28 of set 8 | constantine\n",
      "Processing record 29 of set 8 | pascagoula\n",
      "Processing record 30 of set 8 | kirkland lake\n",
      "Processing record 31 of set 8 | staryy nadym\n",
      "Processing record 32 of set 8 | havre-saint-pierre\n",
      "Processing record 33 of set 8 | yanam\n",
      "Processing record 34 of set 8 | gao\n",
      "Processing record 35 of set 8 | voronezh\n",
      "Processing record 36 of set 8 | ossora\n",
      "Processing record 37 of set 8 | isabela\n",
      "Processing record 38 of set 8 | aykhal\n",
      "Processing record 39 of set 8 | atar\n",
      "Processing record 40 of set 8 | paradwip\n",
      "City not found. Skipping...\n",
      "Processing record 41 of set 8 | yeppoon\n",
      "Processing record 42 of set 8 | itzehoe\n",
      "Processing record 43 of set 8 | seydi\n",
      "Processing record 44 of set 8 | bathurst\n",
      "Processing record 45 of set 8 | svetlyy\n",
      "City not found. Skipping...\n",
      "Processing record 46 of set 8 | thanh hoa\n",
      "Processing record 47 of set 8 | iberia\n",
      "Processing record 48 of set 8 | khorramabad\n",
      "Processing record 49 of set 8 | aswan\n",
      "Processing record 50 of set 8 | guanica\n",
      "Processing record 1 of set 9 | aktau\n",
      "Processing record 2 of set 9 | shunyi\n",
      "Processing record 3 of set 9 | yantal\n",
      "Processing record 4 of set 9 | okha\n",
      "Processing record 5 of set 9 | sfantu gheorghe\n",
      "Processing record 6 of set 9 | tougan\n",
      "Processing record 7 of set 9 | semnan\n",
      "Processing record 8 of set 9 | independence\n",
      "Processing record 9 of set 9 | kyzyl-suu\n",
      "Processing record 10 of set 9 | yonago\n",
      "Processing record 11 of set 9 | gillette\n",
      "Processing record 12 of set 9 | bashmakovo\n",
      "Processing record 13 of set 9 | hamilton\n",
      "Processing record 14 of set 9 | lugovoy\n",
      "Processing record 15 of set 9 | batticaloa\n",
      "Processing record 16 of set 9 | kazalinsk\n",
      "City not found. Skipping...\n",
      "Processing record 17 of set 9 | berlevag\n",
      "Processing record 18 of set 9 | aflu\n",
      "City not found. Skipping...\n",
      "Processing record 19 of set 9 | grafton\n",
      "Processing record 20 of set 9 | cayenne\n",
      "Processing record 21 of set 9 | sechura\n",
      "Processing record 22 of set 9 | reims\n",
      "Processing record 23 of set 9 | yuzhno-yeniseyskiy\n",
      "City not found. Skipping...\n",
      "Processing record 24 of set 9 | salta\n",
      "Processing record 25 of set 9 | usakos\n",
      "Processing record 26 of set 9 | porto novo\n",
      "Processing record 27 of set 9 | aripuana\n",
      "Processing record 28 of set 9 | tevaitoa\n",
      "Processing record 29 of set 9 | elko\n",
      "Processing record 30 of set 9 | salalah\n",
      "Processing record 31 of set 9 | pita\n",
      "Processing record 32 of set 9 | pathein\n",
      "Processing record 33 of set 9 | lazaro cardenas\n",
      "Processing record 34 of set 9 | ohafia\n",
      "Processing record 35 of set 9 | saleaula\n",
      "City not found. Skipping...\n",
      "Processing record 36 of set 9 | bundaberg\n",
      "Processing record 37 of set 9 | nsanje\n",
      "Processing record 38 of set 9 | meyungs\n",
      "City not found. Skipping...\n",
      "Processing record 39 of set 9 | atambua\n",
      "Processing record 40 of set 9 | san patricio\n",
      "Processing record 41 of set 9 | liwale\n",
      "Processing record 42 of set 9 | chapais\n",
      "Processing record 43 of set 9 | tibati\n",
      "Processing record 44 of set 9 | basco\n",
      "Processing record 45 of set 9 | lensk\n",
      "Processing record 46 of set 9 | deputatskiy\n",
      "Processing record 47 of set 9 | landau\n",
      "Processing record 48 of set 9 | tabas\n",
      "Processing record 49 of set 9 | falealupo\n",
      "City not found. Skipping...\n",
      "Processing record 50 of set 9 | yulara\n",
      "Processing record 1 of set 10 | samalaeulu\n",
      "City not found. Skipping...\n",
      "Processing record 2 of set 10 | archidona\n",
      "Processing record 3 of set 10 | mantenopolis\n",
      "Processing record 4 of set 10 | minbu\n",
      "Processing record 5 of set 10 | puerto narino\n",
      "Processing record 6 of set 10 | chicama\n",
      "Processing record 7 of set 10 | tateyama\n",
      "Processing record 8 of set 10 | biograd na moru\n",
      "Processing record 9 of set 10 | sola\n",
      "Processing record 10 of set 10 | trairi\n",
      "Processing record 11 of set 10 | mani\n",
      "Processing record 12 of set 10 | vanimo\n",
      "Processing record 13 of set 10 | tiarei\n",
      "Processing record 14 of set 10 | ola\n",
      "Processing record 15 of set 10 | bakchar\n",
      "Processing record 16 of set 10 | jijiga\n",
      "Processing record 17 of set 10 | sinnamary\n",
      "Processing record 18 of set 10 | naron\n",
      "Processing record 19 of set 10 | saint anthony\n",
      "Processing record 20 of set 10 | vaitupu\n",
      "City not found. Skipping...\n",
      "Processing record 21 of set 10 | labuhan\n",
      "Processing record 22 of set 10 | leeuwarden\n",
      "Processing record 23 of set 10 | kalevala\n",
      "Processing record 24 of set 10 | bairiki\n",
      "City not found. Skipping...\n",
      "Processing record 25 of set 10 | nador\n",
      "Processing record 26 of set 10 | beckley\n",
      "Processing record 27 of set 10 | boa vista\n",
      "Processing record 28 of set 10 | garhi khairo\n",
      "Processing record 29 of set 10 | naryan-mar\n",
      "Processing record 30 of set 10 | kitgum\n",
      "Processing record 31 of set 10 | morondava\n",
      "Processing record 32 of set 10 | ondorhaan\n",
      "City not found. Skipping...\n",
      "Processing record 33 of set 10 | buin\n",
      "Processing record 34 of set 10 | touros\n",
      "Processing record 35 of set 10 | saint pete beach\n",
      "Processing record 36 of set 10 | mountain home\n",
      "Processing record 37 of set 10 | dunedin\n",
      "Processing record 38 of set 10 | shenkursk\n",
      "Processing record 39 of set 10 | vytegra\n",
      "Processing record 40 of set 10 | jalu\n",
      "Processing record 41 of set 10 | elmadag\n",
      "Processing record 42 of set 10 | nayoro\n",
      "Processing record 43 of set 10 | umzimvubu\n",
      "City not found. Skipping...\n",
      "Processing record 44 of set 10 | mahon\n",
      "Processing record 45 of set 10 | xichang\n",
      "Processing record 46 of set 10 | cedar city\n",
      "Processing record 47 of set 10 | pangai\n",
      "Processing record 48 of set 10 | rosita\n",
      "Processing record 49 of set 10 | tidore\n",
      "City not found. Skipping...\n",
      "Processing record 50 of set 10 | kasongo-lunda\n",
      "Processing record 1 of set 11 | nerchinskiy zavod\n",
      "Processing record 2 of set 11 | smolensk\n",
      "Processing record 3 of set 11 | puri\n",
      "Processing record 4 of set 11 | filadelfia\n",
      "Processing record 5 of set 11 | tiffin\n",
      "Processing record 6 of set 11 | ukiah\n"
     ]
    },
    {
     "name": "stdout",
     "output_type": "stream",
     "text": [
      "Processing record 7 of set 11 | severo-yeniseyskiy\n",
      "Processing record 8 of set 11 | san quintin\n",
      "Processing record 9 of set 11 | nirasaki\n",
      "Processing record 10 of set 11 | thilogne\n",
      "City not found. Skipping...\n",
      "Processing record 11 of set 11 | togur\n",
      "Processing record 12 of set 11 | geresk\n",
      "City not found. Skipping...\n",
      "Processing record 13 of set 11 | asfi\n",
      "City not found. Skipping...\n",
      "Processing record 14 of set 11 | namibe\n",
      "Processing record 15 of set 11 | corrales\n",
      "Processing record 16 of set 11 | karasjok\n",
      "Processing record 17 of set 11 | samarai\n",
      "Processing record 18 of set 11 | turek\n",
      "Processing record 19 of set 11 | pimentel\n",
      "Processing record 20 of set 11 | oranjemund\n",
      "Processing record 21 of set 11 | lamar\n",
      "Processing record 22 of set 11 | toora-khem\n",
      "Processing record 23 of set 11 | marsh harbour\n",
      "Processing record 24 of set 11 | jiangyou\n",
      "Processing record 25 of set 11 | faya\n",
      "Processing record 26 of set 11 | hobyo\n",
      "Processing record 27 of set 11 | imisli\n",
      "City not found. Skipping...\n",
      "Processing record 28 of set 11 | kerteh\n",
      "City not found. Skipping...\n",
      "Processing record 29 of set 11 | beian\n",
      "Processing record 30 of set 11 | abu samrah\n",
      "Processing record 31 of set 11 | bacolod\n",
      "Processing record 32 of set 11 | ubud\n",
      "Processing record 33 of set 11 | pangoa\n",
      "Processing record 34 of set 11 | gasa\n",
      "Processing record 35 of set 11 | saquena\n",
      "Processing record 36 of set 11 | paita\n",
      "Processing record 37 of set 11 | bayji\n",
      "Processing record 38 of set 11 | puerto escondido\n",
      "Processing record 39 of set 11 | byron bay\n",
      "Processing record 40 of set 11 | dano\n",
      "Processing record 41 of set 11 | cachoeiras de macacu\n",
      "Processing record 42 of set 11 | myaundzha\n",
      "Processing record 43 of set 11 | shirokiy\n",
      "Processing record 44 of set 11 | taltal\n",
      "-------------------------\n",
      "Data Retrieval Complete\n",
      "-------------------------\n"
     ]
    }
   ],
   "source": [
    "record_counter = 0\n",
    "set_counter = 0\n",
    "\n",
    "url = \"http://api.openweathermap.org/data/2.5/weather?units=Imperial&APPID=\" + weather_api_key \n",
    "rate_limiter = RateLimiter(max_calls=50, period=100)\n",
    "\n",
    "print('Beginning Data Retrieval')\n",
    "print('------------------------')\n",
    "\n",
    "for city in cities:\n",
    "    with rate_limiter:\n",
    "        query_url = url + \"&q=\" + city\n",
    "        response = requests.get(query_url).json()\n",
    "        if record_counter < 50:\n",
    "            record_counter += 1\n",
    "        else:\n",
    "            set_counter += 1\n",
    "            record_counter = 1\n",
    "\n",
    "        print(f\"Processing record {record_counter} of set {set_counter} | {city}\")\n",
    "        \n",
    "        try:\n",
    "            cloudiness.append(response['clouds']['all'])\n",
    "            country.append(response['sys']['country'])\n",
    "            date.append(response['dt'])\n",
    "            humidity.append(response['main']['humidity'])\n",
    "            temp.append(response['main']['temp_max'])\n",
    "            lat.append(response['coord']['lat'])\n",
    "            lng.append(response['coord']['lon'])\n",
    "            wind.append(response['wind']['speed'])\n",
    "            new_cities.append(city)\n",
    "        except:\n",
    "            print(\"City not found. Skipping...\")\n",
    "            pass\n",
    "\n",
    "print('-------------------------')\n",
    "print('Data Retrieval Complete')\n",
    "print('-------------------------')"
   ]
  },
  {
   "cell_type": "markdown",
   "metadata": {},
   "source": [
    "### Convert Raw Data to DataFrame\n",
    "* Export the city data into a .csv.\n",
    "* Display the DataFrame"
   ]
  },
  {
   "cell_type": "code",
   "execution_count": 76,
   "metadata": {},
   "outputs": [
    {
     "data": {
      "text/plain": [
       "City          531\n",
       "Cloudiness    531\n",
       "Country       531\n",
       "Date          531\n",
       "Humidity      531\n",
       "Lat           531\n",
       "Lng           531\n",
       "Max Temp      531\n",
       "Wind Speed    531\n",
       "dtype: int64"
      ]
     },
     "execution_count": 76,
     "metadata": {},
     "output_type": "execute_result"
    }
   ],
   "source": [
    "weather_pd = {\n",
    "    \"City\": new_cities,\n",
    "    \"Cloudiness\" : cloudiness,\n",
    "    \"Country\" : country,\n",
    "    \"Date\" : date,\n",
    "    \"Humidity\" : humidity,\n",
    "    \"Lat\" : lat,\n",
    "    \"Lng\" : lng,  \n",
    "    \"Max Temp\": temp,\n",
    "    \"Wind Speed\" : wind\n",
    "}\n",
    "weather_data = pd.DataFrame(weather_pd)\n",
    "weather_data.count()"
   ]
  },
  {
   "cell_type": "code",
   "execution_count": 77,
   "metadata": {},
   "outputs": [
    {
     "data": {
      "text/html": [
       "<div>\n",
       "<style scoped>\n",
       "    .dataframe tbody tr th:only-of-type {\n",
       "        vertical-align: middle;\n",
       "    }\n",
       "\n",
       "    .dataframe tbody tr th {\n",
       "        vertical-align: top;\n",
       "    }\n",
       "\n",
       "    .dataframe thead th {\n",
       "        text-align: right;\n",
       "    }\n",
       "</style>\n",
       "<table border=\"1\" class=\"dataframe\">\n",
       "  <thead>\n",
       "    <tr style=\"text-align: right;\">\n",
       "      <th></th>\n",
       "      <th>City</th>\n",
       "      <th>Cloudiness</th>\n",
       "      <th>Country</th>\n",
       "      <th>Date</th>\n",
       "      <th>Humidity</th>\n",
       "      <th>Lat</th>\n",
       "      <th>Lng</th>\n",
       "      <th>Max Temp</th>\n",
       "      <th>Wind Speed</th>\n",
       "    </tr>\n",
       "  </thead>\n",
       "  <tbody>\n",
       "    <tr>\n",
       "      <th>0</th>\n",
       "      <td>santa rosa</td>\n",
       "      <td>0</td>\n",
       "      <td>AR</td>\n",
       "      <td>1569160386</td>\n",
       "      <td>27</td>\n",
       "      <td>-36.62</td>\n",
       "      <td>-64.29</td>\n",
       "      <td>64.77</td>\n",
       "      <td>14.67</td>\n",
       "    </tr>\n",
       "    <tr>\n",
       "      <th>1</th>\n",
       "      <td>faanui</td>\n",
       "      <td>0</td>\n",
       "      <td>PF</td>\n",
       "      <td>1569160387</td>\n",
       "      <td>81</td>\n",
       "      <td>-16.48</td>\n",
       "      <td>-151.75</td>\n",
       "      <td>80.25</td>\n",
       "      <td>19.15</td>\n",
       "    </tr>\n",
       "    <tr>\n",
       "      <th>2</th>\n",
       "      <td>northam</td>\n",
       "      <td>67</td>\n",
       "      <td>AU</td>\n",
       "      <td>1569160387</td>\n",
       "      <td>76</td>\n",
       "      <td>-31.65</td>\n",
       "      <td>116.67</td>\n",
       "      <td>53.60</td>\n",
       "      <td>8.05</td>\n",
       "    </tr>\n",
       "    <tr>\n",
       "      <th>3</th>\n",
       "      <td>kapaa</td>\n",
       "      <td>75</td>\n",
       "      <td>US</td>\n",
       "      <td>1569160713</td>\n",
       "      <td>83</td>\n",
       "      <td>22.08</td>\n",
       "      <td>-159.32</td>\n",
       "      <td>78.80</td>\n",
       "      <td>3.36</td>\n",
       "    </tr>\n",
       "    <tr>\n",
       "      <th>4</th>\n",
       "      <td>ponta do sol</td>\n",
       "      <td>12</td>\n",
       "      <td>BR</td>\n",
       "      <td>1569160387</td>\n",
       "      <td>36</td>\n",
       "      <td>-20.63</td>\n",
       "      <td>-46.00</td>\n",
       "      <td>89.61</td>\n",
       "      <td>4.72</td>\n",
       "    </tr>\n",
       "  </tbody>\n",
       "</table>\n",
       "</div>"
      ],
      "text/plain": [
       "           City  Cloudiness Country        Date  Humidity    Lat     Lng  \\\n",
       "0    santa rosa           0      AR  1569160386        27 -36.62  -64.29   \n",
       "1        faanui           0      PF  1569160387        81 -16.48 -151.75   \n",
       "2       northam          67      AU  1569160387        76 -31.65  116.67   \n",
       "3         kapaa          75      US  1569160713        83  22.08 -159.32   \n",
       "4  ponta do sol          12      BR  1569160387        36 -20.63  -46.00   \n",
       "\n",
       "   Max Temp  Wind Speed  \n",
       "0     64.77       14.67  \n",
       "1     80.25       19.15  \n",
       "2     53.60        8.05  \n",
       "3     78.80        3.36  \n",
       "4     89.61        4.72  "
      ]
     },
     "execution_count": 77,
     "metadata": {},
     "output_type": "execute_result"
    }
   ],
   "source": [
    "weather_data.head()"
   ]
  },
  {
   "cell_type": "code",
   "execution_count": 78,
   "metadata": {},
   "outputs": [],
   "source": [
    "weather_data.to_csv(\"weather_output.csv\")"
   ]
  },
  {
   "cell_type": "markdown",
   "metadata": {},
   "source": [
    "### Plotting the Data\n",
    "* Use proper labeling of the plots using plot titles (including date of analysis) and axes labels.\n",
    "* Save the plotted figures as .pngs."
   ]
  },
  {
   "cell_type": "markdown",
   "metadata": {},
   "source": [
    "#### Latitude vs. Temperature Plot"
   ]
  },
  {
   "cell_type": "code",
   "execution_count": 85,
   "metadata": {
    "scrolled": true
   },
   "outputs": [
    {
     "data": {
      "image/png": "[encoded data removed]",
      "text/plain": [
       "<Figure size 432x288 with 1 Axes>"
      ]
     },
     "metadata": {
      "needs_background": "light"
     },
     "output_type": "display_data"
    }
   ],
   "source": [
    "plt.scatter(weather_data[\"Lat\"],weather_data[\"Max Temp\"],edgecolors=\"black\", c=\"skyblue\")\n",
    "plt.title(\"City Latitude vs. Max Temperature (09/22/19)\")\n",
    "plt.xlabel(\"Latitude\")\n",
    "plt.ylabel(\"Max Temperature (F)\")\n",
    "plt.grid (linestyle=\"-\")\n",
    "plt.savefig(\"City Latitude vs. Max Temperature.png\")\n",
    "plt.show()"
   ]
  },
  {
   "cell_type": "markdown",
   "metadata": {},
   "source": [
    "#### Latitude vs. Humidity Plot"
   ]
  },
  {
   "cell_type": "code",
   "execution_count": 86,
   "metadata": {},
   "outputs": [
    {
     "data": {
      "image/png": "[encoded data removed]",
      "text/plain": [
       "<Figure size 432x288 with 1 Axes>"
      ]
     },
     "metadata": {
      "needs_background": "light"
     },
     "output_type": "display_data"
    }
   ],
   "source": [
    "plt.scatter(weather_data[\"Lat\"],weather_data[\"Humidity\"],edgecolors=\"black\", c=\"darkcyan\")\n",
    "plt.title(\"City Latitude vs. Humidity (09/22/19)\")\n",
    "plt.xlabel(\"Latitude\")\n",
    "plt.ylabel(\"Humidity (%)\")\n",
    "plt.grid ()\n",
    "plt.savefig(\"City Latitude vs. Humidity.png\")\n",
    "plt.show()"
   ]
  },
  {
   "cell_type": "markdown",
   "metadata": {},
   "source": [
    "#### Latitude vs. Cloudiness Plot"
   ]
  },
  {
   "cell_type": "code",
   "execution_count": 87,
   "metadata": {},
   "outputs": [
    {
     "data": {
      "image/png": "[encoded data removed]",
      "text/plain": [
       "<Figure size 432x288 with 1 Axes>"
      ]
     },
     "metadata": {
      "needs_background": "light"
     },
     "output_type": "display_data"
    }
   ],
   "source": [
    "plt.scatter(weather_data[\"Lat\"],weather_data[\"Cloudiness\"],edgecolors=\"black\", c=\"teal\")\n",
    "plt.title(\"City Latitude vs. Cloudiness (09/22/19)\")\n",
    "plt.xlabel(\"Latitude\")\n",
    "plt.ylabel(\"Cloudiness (%)\")\n",
    "plt.grid ()\n",
    "plt.savefig(\"City Latitude vs. Cloudiness.png\")\n",
    "plt.show()"
   ]
  },
  {
   "cell_type": "markdown",
   "metadata": {},
   "source": [
    "#### Latitude vs. Wind Speed Plot"
   ]
  },
  {
   "cell_type": "code",
   "execution_count": 88,
   "metadata": {},
   "outputs": [
    {
     "data": {
      "image/png": "[encoded data removed]",
      "text/plain": [
       "<Figure size 432x288 with 1 Axes>"
      ]
     },
     "metadata": {
      "needs_background": "light"
     },
     "output_type": "display_data"
    }
   ],
   "source": [
    "plt.scatter(weather_data[\"Lat\"],weather_data[\"Wind Speed\"],edgecolors=\"black\", c=\"blue\")\n",
    "plt.title(\"City Latitude vs. Wind Speed (09/22/19)\")\n",
    "plt.xlabel(\"Latitude\")\n",
    "plt.ylabel(\"Wind Speed (mph)\")\n",
    "plt.grid ()\n",
    "plt.ylim(-2,44)\n",
    "plt.savefig(\"City Latitude vs. Wind Speed.png\")\n",
    "plt.show()"
   ]
  },
  {
   "cell_type": "markdown",
   "metadata": {},
   "source": [
    "## Linear Regression"
   ]
  },
  {
   "cell_type": "code",
   "execution_count": 5,
   "metadata": {},
   "outputs": [
    {
     "data": {
      "text/html": [
       "<div>\n",
       "<style scoped>\n",
       "    .dataframe tbody tr th:only-of-type {\n",
       "        vertical-align: middle;\n",
       "    }\n",
       "\n",
       "    .dataframe tbody tr th {\n",
       "        vertical-align: top;\n",
       "    }\n",
       "\n",
       "    .dataframe thead th {\n",
       "        text-align: right;\n",
       "    }\n",
       "</style>\n",
       "<table border=\"1\" class=\"dataframe\">\n",
       "  <thead>\n",
       "    <tr style=\"text-align: right;\">\n",
       "      <th></th>\n",
       "      <th>City</th>\n",
       "      <th>Cloudiness</th>\n",
       "      <th>Country</th>\n",
       "      <th>Date</th>\n",
       "      <th>Humidity</th>\n",
       "      <th>Lat</th>\n",
       "      <th>Lng</th>\n",
       "      <th>Max Temp</th>\n",
       "      <th>Wind Speed</th>\n",
       "    </tr>\n",
       "  </thead>\n",
       "  <tbody>\n",
       "    <tr>\n",
       "      <th>0</th>\n",
       "      <td>santa rosa</td>\n",
       "      <td>0</td>\n",
       "      <td>AR</td>\n",
       "      <td>1569160386</td>\n",
       "      <td>27</td>\n",
       "      <td>-36.62</td>\n",
       "      <td>-64.29</td>\n",
       "      <td>64.77</td>\n",
       "      <td>14.67</td>\n",
       "    </tr>\n",
       "    <tr>\n",
       "      <th>1</th>\n",
       "      <td>faanui</td>\n",
       "      <td>0</td>\n",
       "      <td>PF</td>\n",
       "      <td>1569160387</td>\n",
       "      <td>81</td>\n",
       "      <td>-16.48</td>\n",
       "      <td>-151.75</td>\n",
       "      <td>80.25</td>\n",
       "      <td>19.15</td>\n",
       "    </tr>\n",
       "    <tr>\n",
       "      <th>2</th>\n",
       "      <td>northam</td>\n",
       "      <td>67</td>\n",
       "      <td>AU</td>\n",
       "      <td>1569160387</td>\n",
       "      <td>76</td>\n",
       "      <td>-31.65</td>\n",
       "      <td>116.67</td>\n",
       "      <td>53.60</td>\n",
       "      <td>8.05</td>\n",
       "    </tr>\n",
       "    <tr>\n",
       "      <th>3</th>\n",
       "      <td>kapaa</td>\n",
       "      <td>75</td>\n",
       "      <td>US</td>\n",
       "      <td>1569160713</td>\n",
       "      <td>83</td>\n",
       "      <td>22.08</td>\n",
       "      <td>-159.32</td>\n",
       "      <td>78.80</td>\n",
       "      <td>3.36</td>\n",
       "    </tr>\n",
       "    <tr>\n",
       "      <th>4</th>\n",
       "      <td>ponta do sol</td>\n",
       "      <td>12</td>\n",
       "      <td>BR</td>\n",
       "      <td>1569160387</td>\n",
       "      <td>36</td>\n",
       "      <td>-20.63</td>\n",
       "      <td>-46.00</td>\n",
       "      <td>89.61</td>\n",
       "      <td>4.72</td>\n",
       "    </tr>\n",
       "  </tbody>\n",
       "</table>\n",
       "</div>"
      ],
      "text/plain": [
       "           City  Cloudiness Country        Date  Humidity    Lat     Lng  \\\n",
       "0    santa rosa           0      AR  1569160386        27 -36.62  -64.29   \n",
       "1        faanui           0      PF  1569160387        81 -16.48 -151.75   \n",
       "2       northam          67      AU  1569160387        76 -31.65  116.67   \n",
       "3         kapaa          75      US  1569160713        83  22.08 -159.32   \n",
       "4  ponta do sol          12      BR  1569160387        36 -20.63  -46.00   \n",
       "\n",
       "   Max Temp  Wind Speed  \n",
       "0     64.77       14.67  \n",
       "1     80.25       19.15  \n",
       "2     53.60        8.05  \n",
       "3     78.80        3.36  \n",
       "4     89.61        4.72  "
      ]
     },
     "execution_count": 5,
     "metadata": {},
     "output_type": "execute_result"
    }
   ],
   "source": [
    "file = \"weather_output.csv\"\n",
    "weather_final = pd.read_csv(file)\n",
    "#weather_df.dropna()\n",
    "weather_final = weather_final.loc[:, ~weather_final.columns.str.contains('^Unnamed')]\n",
    "weather_final.head()"
   ]
  },
  {
   "cell_type": "code",
   "execution_count": 6,
   "metadata": {},
   "outputs": [
    {
     "data": {
      "text/html": [
       "<div>\n",
       "<style scoped>\n",
       "    .dataframe tbody tr th:only-of-type {\n",
       "        vertical-align: middle;\n",
       "    }\n",
       "\n",
       "    .dataframe tbody tr th {\n",
       "        vertical-align: top;\n",
       "    }\n",
       "\n",
       "    .dataframe thead th {\n",
       "        text-align: right;\n",
       "    }\n",
       "</style>\n",
       "<table border=\"1\" class=\"dataframe\">\n",
       "  <thead>\n",
       "    <tr style=\"text-align: right;\">\n",
       "      <th></th>\n",
       "      <th>City</th>\n",
       "      <th>Cloudiness</th>\n",
       "      <th>Country</th>\n",
       "      <th>Date</th>\n",
       "      <th>Humidity</th>\n",
       "      <th>Lat</th>\n",
       "      <th>Lng</th>\n",
       "      <th>Max Temp</th>\n",
       "      <th>Wind Speed</th>\n",
       "    </tr>\n",
       "  </thead>\n",
       "  <tbody>\n",
       "    <tr>\n",
       "      <th>3</th>\n",
       "      <td>kapaa</td>\n",
       "      <td>75</td>\n",
       "      <td>US</td>\n",
       "      <td>1569160713</td>\n",
       "      <td>83</td>\n",
       "      <td>22.08</td>\n",
       "      <td>-159.32</td>\n",
       "      <td>78.80</td>\n",
       "      <td>3.36</td>\n",
       "    </tr>\n",
       "    <tr>\n",
       "      <th>8</th>\n",
       "      <td>banyo</td>\n",
       "      <td>7</td>\n",
       "      <td>CM</td>\n",
       "      <td>1569160387</td>\n",
       "      <td>73</td>\n",
       "      <td>6.75</td>\n",
       "      <td>11.81</td>\n",
       "      <td>74.49</td>\n",
       "      <td>4.88</td>\n",
       "    </tr>\n",
       "    <tr>\n",
       "      <th>9</th>\n",
       "      <td>kloulklubed</td>\n",
       "      <td>40</td>\n",
       "      <td>PW</td>\n",
       "      <td>1569160714</td>\n",
       "      <td>83</td>\n",
       "      <td>7.04</td>\n",
       "      <td>134.26</td>\n",
       "      <td>80.60</td>\n",
       "      <td>12.28</td>\n",
       "    </tr>\n",
       "    <tr>\n",
       "      <th>10</th>\n",
       "      <td>tasiilaq</td>\n",
       "      <td>100</td>\n",
       "      <td>GL</td>\n",
       "      <td>1569160714</td>\n",
       "      <td>75</td>\n",
       "      <td>65.61</td>\n",
       "      <td>-37.64</td>\n",
       "      <td>44.60</td>\n",
       "      <td>29.97</td>\n",
       "    </tr>\n",
       "    <tr>\n",
       "      <th>11</th>\n",
       "      <td>pingliang</td>\n",
       "      <td>4</td>\n",
       "      <td>CN</td>\n",
       "      <td>1569160714</td>\n",
       "      <td>76</td>\n",
       "      <td>35.54</td>\n",
       "      <td>106.68</td>\n",
       "      <td>48.57</td>\n",
       "      <td>3.94</td>\n",
       "    </tr>\n",
       "  </tbody>\n",
       "</table>\n",
       "</div>"
      ],
      "text/plain": [
       "           City  Cloudiness Country        Date  Humidity    Lat     Lng  \\\n",
       "3         kapaa          75      US  1569160713        83  22.08 -159.32   \n",
       "8         banyo           7      CM  1569160387        73   6.75   11.81   \n",
       "9   kloulklubed          40      PW  1569160714        83   7.04  134.26   \n",
       "10     tasiilaq         100      GL  1569160714        75  65.61  -37.64   \n",
       "11    pingliang           4      CN  1569160714        76  35.54  106.68   \n",
       "\n",
       "    Max Temp  Wind Speed  \n",
       "3      78.80        3.36  \n",
       "8      74.49        4.88  \n",
       "9      80.60       12.28  \n",
       "10     44.60       29.97  \n",
       "11     48.57        3.94  "
      ]
     },
     "execution_count": 6,
     "metadata": {},
     "output_type": "execute_result"
    }
   ],
   "source": [
    "northern_df = weather_final.loc[pd.to_numeric(weather_final[\"Lat\"]).astype(float) > 0]\n",
    "northern_df.head()"
   ]
  },
  {
   "cell_type": "code",
   "execution_count": 7,
   "metadata": {},
   "outputs": [
    {
     "data": {
      "text/html": [
       "<div>\n",
       "<style scoped>\n",
       "    .dataframe tbody tr th:only-of-type {\n",
       "        vertical-align: middle;\n",
       "    }\n",
       "\n",
       "    .dataframe tbody tr th {\n",
       "        vertical-align: top;\n",
       "    }\n",
       "\n",
       "    .dataframe thead th {\n",
       "        text-align: right;\n",
       "    }\n",
       "</style>\n",
       "<table border=\"1\" class=\"dataframe\">\n",
       "  <thead>\n",
       "    <tr style=\"text-align: right;\">\n",
       "      <th></th>\n",
       "      <th>City</th>\n",
       "      <th>Cloudiness</th>\n",
       "      <th>Country</th>\n",
       "      <th>Date</th>\n",
       "      <th>Humidity</th>\n",
       "      <th>Lat</th>\n",
       "      <th>Lng</th>\n",
       "      <th>Max Temp</th>\n",
       "      <th>Wind Speed</th>\n",
       "    </tr>\n",
       "  </thead>\n",
       "  <tbody>\n",
       "    <tr>\n",
       "      <th>0</th>\n",
       "      <td>santa rosa</td>\n",
       "      <td>0</td>\n",
       "      <td>AR</td>\n",
       "      <td>1569160386</td>\n",
       "      <td>27</td>\n",
       "      <td>-36.62</td>\n",
       "      <td>-64.29</td>\n",
       "      <td>64.77</td>\n",
       "      <td>14.67</td>\n",
       "    </tr>\n",
       "    <tr>\n",
       "      <th>1</th>\n",
       "      <td>faanui</td>\n",
       "      <td>0</td>\n",
       "      <td>PF</td>\n",
       "      <td>1569160387</td>\n",
       "      <td>81</td>\n",
       "      <td>-16.48</td>\n",
       "      <td>-151.75</td>\n",
       "      <td>80.25</td>\n",
       "      <td>19.15</td>\n",
       "    </tr>\n",
       "    <tr>\n",
       "      <th>2</th>\n",
       "      <td>northam</td>\n",
       "      <td>67</td>\n",
       "      <td>AU</td>\n",
       "      <td>1569160387</td>\n",
       "      <td>76</td>\n",
       "      <td>-31.65</td>\n",
       "      <td>116.67</td>\n",
       "      <td>53.60</td>\n",
       "      <td>8.05</td>\n",
       "    </tr>\n",
       "    <tr>\n",
       "      <th>4</th>\n",
       "      <td>ponta do sol</td>\n",
       "      <td>12</td>\n",
       "      <td>BR</td>\n",
       "      <td>1569160387</td>\n",
       "      <td>36</td>\n",
       "      <td>-20.63</td>\n",
       "      <td>-46.00</td>\n",
       "      <td>89.61</td>\n",
       "      <td>4.72</td>\n",
       "    </tr>\n",
       "    <tr>\n",
       "      <th>5</th>\n",
       "      <td>bambous virieux</td>\n",
       "      <td>75</td>\n",
       "      <td>MU</td>\n",
       "      <td>1569160387</td>\n",
       "      <td>83</td>\n",
       "      <td>-20.34</td>\n",
       "      <td>57.76</td>\n",
       "      <td>71.60</td>\n",
       "      <td>13.87</td>\n",
       "    </tr>\n",
       "  </tbody>\n",
       "</table>\n",
       "</div>"
      ],
      "text/plain": [
       "              City  Cloudiness Country        Date  Humidity    Lat     Lng  \\\n",
       "0       santa rosa           0      AR  1569160386        27 -36.62  -64.29   \n",
       "1           faanui           0      PF  1569160387        81 -16.48 -151.75   \n",
       "2          northam          67      AU  1569160387        76 -31.65  116.67   \n",
       "4     ponta do sol          12      BR  1569160387        36 -20.63  -46.00   \n",
       "5  bambous virieux          75      MU  1569160387        83 -20.34   57.76   \n",
       "\n",
       "   Max Temp  Wind Speed  \n",
       "0     64.77       14.67  \n",
       "1     80.25       19.15  \n",
       "2     53.60        8.05  \n",
       "4     89.61        4.72  \n",
       "5     71.60       13.87  "
      ]
     },
     "execution_count": 7,
     "metadata": {},
     "output_type": "execute_result"
    }
   ],
   "source": [
    "southern_df = weather_final.loc[pd.to_numeric(weather_final[\"Lat\"]).astype(float) < 0]\n",
    "southern_df.head()"
   ]
  },
  {
   "cell_type": "markdown",
   "metadata": {},
   "source": [
    "####  Northern Hemisphere - Max Temp vs. Latitude Linear Regression"
   ]
  },
  {
   "cell_type": "code",
   "execution_count": 10,
   "metadata": {},
   "outputs": [
    {
     "name": "stdout",
     "output_type": "stream",
     "text": [
      "The r-squared is: -0.7866825108959323\n",
      "Regression line equation is: y = -0.8x + 90.36\n"
     ]
    },
    {
     "data": {
      "image/png": "[encoded data removed]",
      "text/plain": [
       "<Figure size 432x288 with 1 Axes>"
      ]
     },
     "metadata": {
      "needs_background": "light"
     },
     "output_type": "display_data"
    }
   ],
   "source": [
    "x_values = northern_df['Max Temp']\n",
    "y_values = northern_df['Lat']\n",
    "(slope, intercept, rvalue, pvalue, stderr) = linregress(x_values, y_values)\n",
    "regress_values = x_values * slope + intercept\n",
    "line_eq = \"y = \" + str(round(slope,2)) + \"x + \" + str(round(intercept,2))\n",
    "plt.scatter(x_values,y_values)\n",
    "plt.plot(x_values,regress_values,\"r-\")\n",
    "plt.annotate(line_eq,(6,10),fontsize=15,color=\"red\")\n",
    "plt.xlabel('Latitude')\n",
    "plt.ylabel('Max Temperature (F)')\n",
    "plt.title('Northern Hemisphere - Max Temp vs. Latitude Linear Regression')\n",
    "print(f\"The r-squared is: {rvalue}\")\n",
    "print(f\"Regression line equation is: {line_eq}\")\n",
    "plt.show()"
   ]
  },
  {
   "cell_type": "markdown",
   "metadata": {},
   "source": [
    "####  Southern Hemisphere - Max Temp vs. Latitude Linear Regression"
   ]
  },
  {
   "cell_type": "code",
   "execution_count": 11,
   "metadata": {},
   "outputs": [
    {
     "name": "stdout",
     "output_type": "stream",
     "text": [
      "The r-squared is: 0.7683326531244202\n",
      "Regression line equation is: y = 0.74x + -72.4\n"
     ]
    },
    {
     "data": {
      "image/png": "[encoded data removed]",
      "text/plain": [
       "<Figure size 432x288 with 1 Axes>"
      ]
     },
     "metadata": {
      "needs_background": "light"
     },
     "output_type": "display_data"
    }
   ],
   "source": [
    "x_values = southern_df['Max Temp']\n",
    "y_values = southern_df['Lat']\n",
    "(slope, intercept, rvalue, pvalue, stderr) = linregress(x_values, y_values)\n",
    "regress_values = x_values * slope + intercept\n",
    "line_eq = \"y = \" + str(round(slope,2)) + \"x + \" + str(round(intercept,2))\n",
    "plt.scatter(x_values,y_values)\n",
    "plt.plot(x_values,regress_values,\"r-\")\n",
    "plt.annotate(line_eq,(6,10),fontsize=15,color=\"red\")\n",
    "plt.xlabel('Latitude')\n",
    "plt.ylabel('Max Temperature (F)')\n",
    "plt.title('Southern Hemisphere - Max Temp vs. Latitude Linear Regression')\n",
    "print(f\"The r-squared is: {rvalue}\")\n",
    "print(f\"Regression line equation is: {line_eq}\")\n",
    "plt.show()"
   ]
  },
  {
   "cell_type": "markdown",
   "metadata": {},
   "source": [
    "####  Northern Hemisphere - Humidity (%) vs. Latitude Linear Regression"
   ]
  },
  {
   "cell_type": "code",
   "execution_count": 13,
   "metadata": {},
   "outputs": [
    {
     "name": "stdout",
     "output_type": "stream",
     "text": [
      "The r-squared is: 0.18158511604554345\n",
      "Regression line equation is: y = 0.16x + 27.2\n"
     ]
    },
    {
     "data": {
      "image/png": "[encoded data removed]",
      "text/plain": [
       "<Figure size 432x288 with 1 Axes>"
      ]
     },
     "metadata": {
      "needs_background": "light"
     },
     "output_type": "display_data"
    }
   ],
   "source": [
    "x_values = northern_df['Humidity']\n",
    "y_values = northern_df['Lat']\n",
    "(slope, intercept, rvalue, pvalue, stderr) = linregress(x_values, y_values)\n",
    "regress_values = x_values * slope + intercept\n",
    "line_eq = \"y = \" + str(round(slope,2)) + \"x + \" + str(round(intercept,2))\n",
    "plt.scatter(x_values,y_values)\n",
    "plt.plot(x_values,regress_values,\"r-\")\n",
    "plt.annotate(line_eq,(6,10),fontsize=15,color=\"red\")\n",
    "plt.xlabel('Latitude')\n",
    "plt.ylabel('Humidity')\n",
    "plt.title('Northern Hemisphere - Humidity (%) vs. Latitude Linear Regression')\n",
    "print(f\"The r-squared is: {rvalue}\")\n",
    "print(f\"Regression line equation is: {line_eq}\")\n",
    "plt.show()"
   ]
  },
  {
   "cell_type": "markdown",
   "metadata": {},
   "source": [
    "####  Southern Hemisphere - Humidity (%) vs. Latitude Linear Regression"
   ]
  },
  {
   "cell_type": "code",
   "execution_count": 14,
   "metadata": {},
   "outputs": [
    {
     "name": "stdout",
     "output_type": "stream",
     "text": [
      "The r-squared is: 0.04393962330313295\n",
      "Regression line equation is: y = 0.02x + -21.92\n"
     ]
    },
    {
     "data": {
      "image/png": "[encoded data removed]",
      "text/plain": [
       "<Figure size 432x288 with 1 Axes>"
      ]
     },
     "metadata": {
      "needs_background": "light"
     },
     "output_type": "display_data"
    }
   ],
   "source": [
    "x_values = southern_df['Humidity']\n",
    "y_values = southern_df['Lat']\n",
    "(slope, intercept, rvalue, pvalue, stderr) = linregress(x_values, y_values)\n",
    "regress_values = x_values * slope + intercept\n",
    "line_eq = \"y = \" + str(round(slope,2)) + \"x + \" + str(round(intercept,2))\n",
    "plt.scatter(x_values,y_values)\n",
    "plt.plot(x_values,regress_values,\"r-\")\n",
    "plt.annotate(line_eq,(6,10),fontsize=15,color=\"red\")\n",
    "plt.xlabel('Latitude')\n",
    "plt.ylabel('Humidity')\n",
    "plt.title('Southern Hemisphere - Humidity (%) vs. Latitude Linear Regression')\n",
    "print(f\"The r-squared is: {rvalue}\")\n",
    "print(f\"Regression line equation is: {line_eq}\")\n",
    "plt.show()"
   ]
  },
  {
   "cell_type": "markdown",
   "metadata": {},
   "source": [
    "####  Northern Hemisphere - Cloudiness (%) vs. Latitude Linear Regression"
   ]
  },
  {
   "cell_type": "code",
   "execution_count": 15,
   "metadata": {},
   "outputs": [
    {
     "name": "stdout",
     "output_type": "stream",
     "text": [
      "The r-squared is: 0.06979515778732445\n",
      "Regression line equation is: y = 0.03x + 37.19\n"
     ]
    },
    {
     "data": {
      "image/png": "[encoded data removed]",
      "text/plain": [
       "<Figure size 432x288 with 1 Axes>"
      ]
     },
     "metadata": {
      "needs_background": "light"
     },
     "output_type": "display_data"
    }
   ],
   "source": [
    "x_values = northern_df['Cloudiness']\n",
    "y_values = northern_df['Lat']\n",
    "(slope, intercept, rvalue, pvalue, stderr) = linregress(x_values, y_values)\n",
    "regress_values = x_values * slope + intercept\n",
    "line_eq = \"y = \" + str(round(slope,2)) + \"x + \" + str(round(intercept,2))\n",
    "plt.scatter(x_values,y_values)\n",
    "plt.plot(x_values,regress_values,\"r-\")\n",
    "plt.annotate(line_eq,(6,10),fontsize=15,color=\"red\")\n",
    "plt.xlabel('Latitude')\n",
    "plt.ylabel('Cloudiness')\n",
    "plt.title('Northern Hemisphere - Cloudiness (%) vs. Latitude Linear Regression')\n",
    "print(f\"The r-squared is: {rvalue}\")\n",
    "print(f\"Regression line equation is: {line_eq}\")\n",
    "plt.show()"
   ]
  },
  {
   "cell_type": "markdown",
   "metadata": {},
   "source": [
    "####  Southern Hemisphere - Cloudiness (%) vs. Latitude Linear Regression"
   ]
  },
  {
   "cell_type": "code",
   "execution_count": 16,
   "metadata": {},
   "outputs": [
    {
     "name": "stdout",
     "output_type": "stream",
     "text": [
      "The r-squared is: 0.12131323013385886\n",
      "Regression line equation is: y = 0.04x + -22.67\n"
     ]
    },
    {
     "data": {
      "image/png": "[encoded data removed]",
      "text/plain": [
       "<Figure size 432x288 with 1 Axes>"
      ]
     },
     "metadata": {
      "needs_background": "light"
     },
     "output_type": "display_data"
    }
   ],
   "source": [
    "x_values = southern_df['Cloudiness']\n",
    "y_values = southern_df['Lat']\n",
    "(slope, intercept, rvalue, pvalue, stderr) = linregress(x_values, y_values)\n",
    "regress_values = x_values * slope + intercept\n",
    "line_eq = \"y = \" + str(round(slope,2)) + \"x + \" + str(round(intercept,2))\n",
    "plt.scatter(x_values,y_values)\n",
    "plt.plot(x_values,regress_values,\"r-\")\n",
    "plt.annotate(line_eq,(6,10),fontsize=15,color=\"red\")\n",
    "plt.xlabel('Latitude')\n",
    "plt.ylabel('Cloudiness')\n",
    "plt.title('Southern Hemisphere - Cloudiness (%) vs. Latitude Linear Regression')\n",
    "print(f\"The r-squared is: {rvalue}\")\n",
    "print(f\"Regression line equation is: {line_eq}\")\n",
    "plt.show()"
   ]
  },
  {
   "cell_type": "markdown",
   "metadata": {},
   "source": [
    "####  Northern Hemisphere - Wind Speed (mph) vs. Latitude Linear Regression"
   ]
  },
  {
   "cell_type": "code",
   "execution_count": 17,
   "metadata": {},
   "outputs": [
    {
     "name": "stdout",
     "output_type": "stream",
     "text": [
      "The r-squared is: 0.09970926593941139\n",
      "Regression line equation is: y = 0.31x + 36.28\n"
     ]
    },
    {
     "data": {
      "image/png": "[encoded data removed]",
      "text/plain": [
       "<Figure size 432x288 with 1 Axes>"
      ]
     },
     "metadata": {
      "needs_background": "light"
     },
     "output_type": "display_data"
    }
   ],
   "source": [
    "x_values = northern_df['Wind Speed']\n",
    "y_values = northern_df['Lat']\n",
    "(slope, intercept, rvalue, pvalue, stderr) = linregress(x_values, y_values)\n",
    "regress_values = x_values * slope + intercept\n",
    "line_eq = \"y = \" + str(round(slope,2)) + \"x + \" + str(round(intercept,2))\n",
    "plt.scatter(x_values,y_values)\n",
    "plt.plot(x_values,regress_values,\"r-\")\n",
    "plt.annotate(line_eq,(6,10),fontsize=15,color=\"red\")\n",
    "plt.xlabel('Latitude')\n",
    "plt.ylabel('Wind Speed')\n",
    "plt.title('Northern Hemisphere - Wind Speed (mph) vs. Latitude Linear Regression')\n",
    "print(f\"The r-squared is: {rvalue}\")\n",
    "print(f\"Regression line equation is: {line_eq}\")\n",
    "plt.show()"
   ]
  },
  {
   "cell_type": "markdown",
   "metadata": {},
   "source": [
    "####  Southern Hemisphere - Wind Speed (mph) vs. Latitude Linear Regression"
   ]
  },
  {
   "cell_type": "code",
   "execution_count": 18,
   "metadata": {},
   "outputs": [
    {
     "name": "stdout",
     "output_type": "stream",
     "text": [
      "The r-squared is: -0.13407219572455473\n",
      "Regression line equation is: y = -0.32x + -17.75\n"
     ]
    },
    {
     "data": {
      "image/png": "[encoded data removed]",
      "text/plain": [
       "<Figure size 432x288 with 1 Axes>"
      ]
     },
     "metadata": {
      "needs_background": "light"
     },
     "output_type": "display_data"
    }
   ],
   "source": [
    "x_values = southern_df['Wind Speed']\n",
    "y_values = southern_df['Lat']\n",
    "(slope, intercept, rvalue, pvalue, stderr) = linregress(x_values, y_values)\n",
    "regress_values = x_values * slope + intercept\n",
    "line_eq = \"y = \" + str(round(slope,2)) + \"x + \" + str(round(intercept,2))\n",
    "plt.scatter(x_values,y_values)\n",
    "plt.plot(x_values,regress_values,\"r-\")\n",
    "plt.annotate(line_eq,(6,10),fontsize=15,color=\"red\")\n",
    "plt.xlabel('Latitude')\n",
    "plt.ylabel('Wind Speed')\n",
    "plt.title('Southern Hemisphere - Wind Speed (mph) vs. Latitude Linear Regression')\n",
    "print(f\"The r-squared is: {rvalue}\")\n",
    "print(f\"Regression line equation is: {line_eq}\")\n",
    "plt.show()"
   ]
  },
  {
   "cell_type": "code",
   "execution_count": null,
   "metadata": {},
   "outputs": [],
   "source": []
  }
 ],
 "metadata": {
  "anaconda-cloud": {},
  "kernel_info": {
   "name": "python3"
  },
  "kernelspec": {
   "display_name": "Python 3",
   "language": "python",
   "name": "python3"
  },
  "language_info": {
   "codemirror_mode": {
    "name": "ipython",
    "version": 3
   },
   "file_extension": ".py",
   "mimetype": "text/x-python",
   "name": "python",
   "nbconvert_exporter": "python",
   "pygments_lexer": "ipython3",
   "version": "3.7.3"
  },
  "latex_envs": {
   "LaTeX_envs_menu_present": true,
   "autoclose": false,
   "autocomplete": true,
   "bibliofile": "biblio.bib",
   "cite_by": "apalike",
   "current_citInitial": 1,
   "eqLabelWithNumbers": true,
   "eqNumInitial": 1,
   "hotkeys": {
    "equation": "Ctrl-E",
    "itemize": "Ctrl-I"
   },
   "labels_anchors": false,
   "latex_user_defs": false,
   "report_style_numbering": false,
   "user_envs_cfg": false
  },
  "nteract": {
   "version": "0.12.3"
  }
 },
 "nbformat": 4,
 "nbformat_minor": 2
}
